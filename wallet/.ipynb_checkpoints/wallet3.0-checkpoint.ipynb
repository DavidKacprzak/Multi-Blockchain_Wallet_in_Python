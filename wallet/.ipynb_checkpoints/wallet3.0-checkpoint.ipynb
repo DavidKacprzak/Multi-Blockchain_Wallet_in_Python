{
 "cells": [
  {
   "cell_type": "code",
   "execution_count": 17,
   "metadata": {},
   "outputs": [],
   "source": [
    "import os\n",
    "import subprocess\n",
    "import json\n",
    "from constants import *\n",
    "from dotenv import load_dotenv\n",
    "from pathlib import Path\n",
    "from web3 import Web3\n",
    "#from web3.middleware import geth_poa_middleware\n",
    "from eth_account import Account"
   ]
  },
  {
   "cell_type": "code",
   "execution_count": 18,
   "metadata": {},
   "outputs": [],
   "source": [
    "mnemonic = os.getenv('MNEMONIC', 'spoil know pigeon lamp tank pride wealth expect main carbon airport banner')"
   ]
  },
  {
   "cell_type": "code",
   "execution_count": 19,
   "metadata": {},
   "outputs": [],
   "source": [
    "coins = {BTC, ETH, BTCTEST}"
   ]
  },
  {
   "cell_type": "code",
   "execution_count": 20,
   "metadata": {},
   "outputs": [],
   "source": [
    "def derive_wallets(mnemonic, coin, numderive):\n",
    "    command = 'php derive -g --mnemonic=\"' + mnemonic + '\" --cols=path,address,privkey,pubkey --coin=\"' + coin + '\" --numderive=\"' + str(numderive) + '\" --format=json'\n",
    "\n",
    "    p = subprocess.Popen(command, stdout=subprocess.PIPE, shell=True)\n",
    "    (output, err) = p.communicate()\n",
    "    p_status = p.wait()\n",
    "\n",
    "    keys = json.loads(output)\n",
    "    return keys"
   ]
  },
  {
   "cell_type": "code",
   "execution_count": 40,
   "metadata": {},
   "outputs": [],
   "source": [
    "def get_keys_dict():\n",
    "    coin_dict = {}\n",
    "    for i in coins:\n",
    "        coin_dict[i] = derive_wallets(mnemonic, i, 3)\n",
    "        \n",
    "    return coin_dict"
   ]
  },
  {
   "cell_type": "code",
   "execution_count": 22,
   "metadata": {},
   "outputs": [
    {
     "data": {
      "text/plain": [
       "{'btc-test': [{'path': \"m/44'/1'/0'/0/0\",\n",
       "   'address': 'n3Dw2QVHtiC1QrU3txbZpQ8BpN2msagjLv',\n",
       "   'privkey': 'cRtkKWEV9WSHf88m5KTnxZYHNvuvLVAVM9yYJbdQYecx5sK1yomd',\n",
       "   'pubkey': '033320fcc965ea49e012776fefb3bc1903b5cccd55097edcb3787787a28dceab27'},\n",
       "  {'path': \"m/44'/1'/0'/0/1\",\n",
       "   'address': 'migSTYjh2pAUB4Yvb4tUF7h6WqddKM4mav',\n",
       "   'privkey': 'cTQuKroFecDsfciW3b1YLGNXockJmambcEobqeA7Cfi8okRfuxpz',\n",
       "   'pubkey': '03a1e828c5ef266b2bcb2bc233e69fcdfb5f8766fda50e879a99265cc1e5fc8d25'},\n",
       "  {'path': \"m/44'/1'/0'/0/2\",\n",
       "   'address': 'mmVo4bTkM7S72yLowFUEnDv5XJ9ud2VyBc',\n",
       "   'privkey': 'cQy7WpNgGPyCtxpqSf59Xw6DVZX9jd9VNBvLNXn5XeYEuVvqnd5r',\n",
       "   'pubkey': '03ed14cb217f93f675634b9de1573f95da664893518aa86d87fa70a988c2cbb674'}],\n",
       " 'btc': [{'path': \"m/44'/0'/0'/0/0\",\n",
       "   'address': '1LerCFv3aKq1i8xexUDr5VAdX7fmTC7Nfh',\n",
       "   'privkey': 'KxwL7ZBvzLSR4c2Hr5LmwTsdqrG8tNmWAhzMnNHugUmtkaJcsFDt',\n",
       "   'pubkey': '02db9925b5b2a8a16a2fcc40d9fa3b150f2502cc8b5dc47171c195c2c085f7216f'},\n",
       "  {'path': \"m/44'/0'/0'/0/1\",\n",
       "   'address': '15FVhYRofPZwLmiYaGAB95HhMC6wBWpyME',\n",
       "   'privkey': 'L3fRbFjvNfCXSffoxcV6MDujdorVdnSeTCCqiVZnwYP9L9tURTEk',\n",
       "   'pubkey': '0389b1a32e207549882a6b680e4ae32a8a2b6ec50f924822aae7068fff3027a9b9'},\n",
       "  {'path': \"m/44'/0'/0'/0/2\",\n",
       "   'address': '1HkbEa8L29FfbyAHWM3UraQNDdUfbCADJ6',\n",
       "   'privkey': 'KyXpKUUJ9KTBNZ9uXcKD492sfPEcWvFkbvZh6RrEtrdQXhjyzq2k',\n",
       "   'pubkey': '02a77e92b4ddd428e1ab06d4cb714f5908dbb007595a8f1ccd35b37467e2c7651c'}],\n",
       " 'eth': [{'path': \"m/44'/60'/0'/0/0\",\n",
       "   'address': '0x47FfFD967fe4EC1bc2bC600498929013E8E88864',\n",
       "   'privkey': '0x13aef46c8226cc952720df45340c1dd5818e26437e6af746e479c4d2b427458a',\n",
       "   'pubkey': '02bdd079d2fa13dd254e67ed64766a0c3f1c43e0bd03e308a9023b30f600c739da'},\n",
       "  {'path': \"m/44'/60'/0'/0/1\",\n",
       "   'address': '0x89DD8a835061e0829a863e1D33A1300956235bA0',\n",
       "   'privkey': '0xeceb83c510366f2ecb15afc5474c1529f5f0d0c91f60db052855cc0d3f4c0e87',\n",
       "   'pubkey': '03cd2a4fd818fda956e8e57b9a0bfd191cda34682f362e632a0b3981f8324d4659'},\n",
       "  {'path': \"m/44'/60'/0'/0/2\",\n",
       "   'address': '0x570378aC9555B01Ad2c09992e7Ea8f278C8D9aC6',\n",
       "   'privkey': '0x76a242036b969cf196e7331d2cb58d47f09b9d0f21f3a0895355d41c655daf95',\n",
       "   'pubkey': '02866fe90be7d14d450a066b6eaa6550fc771b1d50e95db71ddaec533290610ad8'}]}"
      ]
     },
     "execution_count": 22,
     "metadata": {},
     "output_type": "execute_result"
    }
   ],
   "source": [
    "get_keys_dict()"
   ]
  },
  {
   "cell_type": "code",
   "execution_count": 41,
   "metadata": {},
   "outputs": [
    {
     "data": {
      "text/plain": [
       "'0x76a242036b969cf196e7331d2cb58d47f09b9d0f21f3a0895355d41c655daf95'"
      ]
     },
     "execution_count": 41,
     "metadata": {},
     "output_type": "execute_result"
    }
   ],
   "source": [
    "get_keys_dict()[ETH][2]['privkey']"
   ]
  },
  {
   "cell_type": "code",
   "execution_count": 42,
   "metadata": {},
   "outputs": [],
   "source": [
    "def priv_key_to_account(coin, priv_key):\n",
    "    if coin == ETH:\n",
    "        private_key = Account.privateKeyToAccount(priv_key)\n",
    "        #private_key = Account.from_key(priv_key)\n",
    "    elif coin == BTCTEST:\n",
    "        private_key = PrivateKeyTestnet(priv_key)\n",
    "    return private_key"
   ]
  },
  {
   "cell_type": "code",
   "execution_count": 44,
   "metadata": {},
   "outputs": [
    {
     "data": {
      "text/plain": [
       "<eth_account.signers.local.LocalAccount at 0x15d015e60c8>"
      ]
     },
     "execution_count": 44,
     "metadata": {},
     "output_type": "execute_result"
    }
   ],
   "source": [
    "priv_key_to_account(ETH, get_keys_dict()[ETH][2]['privkey'])"
   ]
  }
 ],
 "metadata": {
  "kernelspec": {
   "display_name": "Python 3",
   "language": "python",
   "name": "python3"
  },
  "language_info": {
   "codemirror_mode": {
    "name": "ipython",
    "version": 3
   },
   "file_extension": ".py",
   "mimetype": "text/x-python",
   "name": "python",
   "nbconvert_exporter": "python",
   "pygments_lexer": "ipython3",
   "version": "3.7.7"
  }
 },
 "nbformat": 4,
 "nbformat_minor": 4
}
